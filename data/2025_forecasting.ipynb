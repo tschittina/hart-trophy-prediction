{
 "cells": [
  {
   "cell_type": "code",
   "execution_count": 1,
   "id": "564c4c97-6d69-4a8e-ab1a-4263cbde1b17",
   "metadata": {},
   "outputs": [],
   "source": [
    "import pandas as pd\n",
    "import requests\n",
    "from bs4 import BeautifulSoup as bs"
   ]
  },
  {
   "cell_type": "code",
   "execution_count": 2,
   "id": "1ceb3ed8-8d99-4c86-aad7-5245589e2ed1",
   "metadata": {},
   "outputs": [],
   "source": [
    "sk_names_lst = []\n",
    "g_names_lst = []\n",
    "pos_lst = []\n",
    "goals_lst = []\n",
    "assists_lst = []\n",
    "points_lst = []\n",
    "ops_lst = []\n",
    "tps_lst = []\n",
    "plus_minus_lst = []\n",
    "gps_lst = []\n",
    "gwins_lst = []\n",
    "gaa_lst = []\n",
    "sv_lst = []"
   ]
  },
  {
   "cell_type": "code",
   "execution_count": 3,
   "id": "fd0a896e-092c-4561-b22b-323a8485d5d0",
   "metadata": {},
   "outputs": [
    {
     "name": "stdout",
     "output_type": "stream",
     "text": [
      "200\n"
     ]
    }
   ],
   "source": [
    "# 2025 skater data\n",
    "response = requests.get('https://www.hockey-reference.com/leagues/NHL_2025_skaters-misc.html')\n",
    "print(response.status_code)"
   ]
  },
  {
   "cell_type": "code",
   "execution_count": 4,
   "id": "f81fbc5a-19cb-4b3a-8048-0df99c169b44",
   "metadata": {},
   "outputs": [],
   "source": [
    "soup = bs(response.content, 'html.parser')"
   ]
  },
  {
   "cell_type": "code",
   "execution_count": 5,
   "id": "7970068c-6ce6-43ac-8bb1-d26049843798",
   "metadata": {},
   "outputs": [],
   "source": [
    "sk_cols = [sk_names_lst, pos_lst, goals_lst, assists_lst, points_lst, ops_lst, tps_lst, plus_minus_lst]\n",
    "\n",
    "tags = ['th+ .left', '.left+ .left', '.right:nth-child(7)', '.right:nth-child(8)', '.right:nth-child(9)',\n",
    "        '.right:nth-child(16)', '.right:nth-child(18)', '.right:nth-child(15)']"
   ]
  },
  {
   "cell_type": "code",
   "execution_count": 6,
   "id": "e401e490-102a-4adb-a62b-ae3c494f53c5",
   "metadata": {},
   "outputs": [],
   "source": [
    "for col, tag in zip(sk_cols, tags):\n",
    "    temp = soup.select(tag)\n",
    "    for t in temp:\n",
    "        col.append(t.string)"
   ]
  },
  {
   "cell_type": "code",
   "execution_count": 7,
   "id": "e455ccf4-7ea5-4a58-8c46-86f34a4e0807",
   "metadata": {},
   "outputs": [],
   "source": [
    "sk_data = {}\n",
    "\n",
    "keys = ['player names', 'position', 'goals', 'assists', 'points', 'ops', 'tps', 'plus-minus']\n",
    "\n",
    "for i in range(len(keys)):\n",
    "    sk_data[keys[i]] = sk_cols[i]\n",
    "\n",
    "sk_df = pd.DataFrame(sk_data)"
   ]
  },
  {
   "cell_type": "code",
   "execution_count": 8,
   "id": "080086e1-2e60-4e92-8456-b4e5d63c5083",
   "metadata": {},
   "outputs": [],
   "source": [
    "sk_df['points'] = sk_df['points'].apply(lambda x: int(x) if isinstance(x, str) else 0)"
   ]
  },
  {
   "cell_type": "code",
   "execution_count": 9,
   "id": "21709083-8b03-4de0-8a7d-418fdf2cdb35",
   "metadata": {},
   "outputs": [],
   "source": [
    "sk_df = sk_df.nlargest(15, 'points', keep='all')\n",
    "sk_df.reset_index(inplace=True, drop=True)"
   ]
  },
  {
   "cell_type": "code",
   "execution_count": 10,
   "id": "faa2030c-6e9c-4bfc-9a97-19701c00db85",
   "metadata": {},
   "outputs": [],
   "source": [
    "sk_df[['goals', 'assists', 'plus-minus']] = sk_df[['goals', 'assists', 'plus-minus']].astype(int)\n",
    "sk_df[['ops', 'tps']] = sk_df[['ops', 'tps']].astype(float)"
   ]
  },
  {
   "cell_type": "code",
   "execution_count": 11,
   "id": "2e9d5690-dc84-4d8b-847a-0218c50d9ea9",
   "metadata": {},
   "outputs": [],
   "source": [
    "sk_df['position'] = sk_df['position'].replace(['RW', 'LW'], ['W', 'W'])"
   ]
  },
  {
   "cell_type": "code",
   "execution_count": 12,
   "id": "e1c93a6e-7a92-44c0-8651-d93df960e7cb",
   "metadata": {},
   "outputs": [
    {
     "data": {
      "text/html": [
       "<div>\n",
       "<style scoped>\n",
       "    .dataframe tbody tr th:only-of-type {\n",
       "        vertical-align: middle;\n",
       "    }\n",
       "\n",
       "    .dataframe tbody tr th {\n",
       "        vertical-align: top;\n",
       "    }\n",
       "\n",
       "    .dataframe thead th {\n",
       "        text-align: right;\n",
       "    }\n",
       "</style>\n",
       "<table border=\"1\" class=\"dataframe\">\n",
       "  <thead>\n",
       "    <tr style=\"text-align: right;\">\n",
       "      <th></th>\n",
       "      <th>player names</th>\n",
       "      <th>goals</th>\n",
       "      <th>assists</th>\n",
       "      <th>points</th>\n",
       "      <th>ops</th>\n",
       "      <th>tps</th>\n",
       "      <th>plus-minus</th>\n",
       "      <th>position_C</th>\n",
       "      <th>position_D</th>\n",
       "      <th>position_W</th>\n",
       "    </tr>\n",
       "  </thead>\n",
       "  <tbody>\n",
       "    <tr>\n",
       "      <th>0</th>\n",
       "      <td>Martin Nečas</td>\n",
       "      <td>42</td>\n",
       "      <td>84</td>\n",
       "      <td>126</td>\n",
       "      <td>4.1</td>\n",
       "      <td>5.7</td>\n",
       "      <td>5</td>\n",
       "      <td>1</td>\n",
       "      <td>0</td>\n",
       "      <td>0</td>\n",
       "    </tr>\n",
       "    <tr>\n",
       "      <th>1</th>\n",
       "      <td>Kirill Kaprizov</td>\n",
       "      <td>51</td>\n",
       "      <td>75</td>\n",
       "      <td>126</td>\n",
       "      <td>4.2</td>\n",
       "      <td>6.3</td>\n",
       "      <td>18</td>\n",
       "      <td>0</td>\n",
       "      <td>0</td>\n",
       "      <td>1</td>\n",
       "    </tr>\n",
       "    <tr>\n",
       "      <th>2</th>\n",
       "      <td>Nikita Kucherov</td>\n",
       "      <td>42</td>\n",
       "      <td>78</td>\n",
       "      <td>120</td>\n",
       "      <td>3.5</td>\n",
       "      <td>5.1</td>\n",
       "      <td>6</td>\n",
       "      <td>0</td>\n",
       "      <td>0</td>\n",
       "      <td>1</td>\n",
       "    </tr>\n",
       "    <tr>\n",
       "      <th>3</th>\n",
       "      <td>Nathan MacKinnon</td>\n",
       "      <td>25</td>\n",
       "      <td>89</td>\n",
       "      <td>114</td>\n",
       "      <td>3.0</td>\n",
       "      <td>5.3</td>\n",
       "      <td>0</td>\n",
       "      <td>1</td>\n",
       "      <td>0</td>\n",
       "      <td>0</td>\n",
       "    </tr>\n",
       "    <tr>\n",
       "      <th>4</th>\n",
       "      <td>Mitch Marner</td>\n",
       "      <td>30</td>\n",
       "      <td>84</td>\n",
       "      <td>114</td>\n",
       "      <td>3.2</td>\n",
       "      <td>5.1</td>\n",
       "      <td>4</td>\n",
       "      <td>0</td>\n",
       "      <td>0</td>\n",
       "      <td>1</td>\n",
       "    </tr>\n",
       "  </tbody>\n",
       "</table>\n",
       "</div>"
      ],
      "text/plain": [
       "       player names  goals  assists  points  ops  tps  plus-minus  position_C  \\\n",
       "0      Martin Nečas     42       84     126  4.1  5.7           5           1   \n",
       "1   Kirill Kaprizov     51       75     126  4.2  6.3          18           0   \n",
       "2   Nikita Kucherov     42       78     120  3.5  5.1           6           0   \n",
       "3  Nathan MacKinnon     25       89     114  3.0  5.3           0           1   \n",
       "4      Mitch Marner     30       84     114  3.2  5.1           4           0   \n",
       "\n",
       "   position_D  position_W  \n",
       "0           0           0  \n",
       "1           0           1  \n",
       "2           0           1  \n",
       "3           0           0  \n",
       "4           0           1  "
      ]
     },
     "execution_count": 12,
     "metadata": {},
     "output_type": "execute_result"
    }
   ],
   "source": [
    "sk_df = pd.get_dummies(sk_df, columns=['position'], dtype=int)\n",
    "sk_df.head()"
   ]
  },
  {
   "cell_type": "code",
   "execution_count": 13,
   "id": "a6d97989-6c7a-4742-ace5-b77966381dd8",
   "metadata": {},
   "outputs": [],
   "source": [
    "sk_df[['ops', 'tps']] = sk_df[['ops', 'tps']] * 3\n",
    "sk_df['plus-minus'] = sk_df['plus-minus'] * 2"
   ]
  },
  {
   "cell_type": "code",
   "execution_count": 14,
   "id": "29c988da-97bc-4d31-94d6-8bb12cb36c01",
   "metadata": {},
   "outputs": [],
   "source": [
    "sk_df.drop(columns=['player names'], inplace=True)\n",
    "sk_df.to_csv('2025_sk_forecast.csv')"
   ]
  },
  {
   "cell_type": "code",
   "execution_count": 15,
   "id": "d18150af-e4cf-4916-8dea-25e985a1f5e0",
   "metadata": {},
   "outputs": [
    {
     "data": {
      "text/plain": [
       "200"
      ]
     },
     "execution_count": 15,
     "metadata": {},
     "output_type": "execute_result"
    }
   ],
   "source": [
    "# 2025 goalie data\n",
    "response = requests.get('https://www.hockey-reference.com/leagues/NHL_2025_goalies.html')\n",
    "response.status_code"
   ]
  },
  {
   "cell_type": "code",
   "execution_count": 16,
   "id": "470f7db0-35de-4e0e-8536-9096ae63fa53",
   "metadata": {},
   "outputs": [],
   "source": [
    "soup = bs(response.content, 'html.parser')"
   ]
  },
  {
   "cell_type": "code",
   "execution_count": 17,
   "id": "9c726e60-567e-450c-8ad6-c1364857d971",
   "metadata": {},
   "outputs": [],
   "source": [
    "g_cols = [g_names_lst, gps_lst, gwins_lst, gaa_lst, sv_lst]\n",
    "\n",
    "tags = ['th+ .left', '.right:nth-child(24)', '.right:nth-child(8)', '.non_qual+ .non_qual', '.non_qual:nth-child(14)']"
   ]
  },
  {
   "cell_type": "code",
   "execution_count": 18,
   "id": "3838cfc4-41f3-4ac7-a4f0-2f4428be71cd",
   "metadata": {},
   "outputs": [],
   "source": [
    "for col, tag in zip(g_cols, tags):\n",
    "    temp = soup.select(tag)\n",
    "    for t in temp:\n",
    "        col.append(t.string)"
   ]
  },
  {
   "cell_type": "code",
   "execution_count": 19,
   "id": "8f0bcd46-c648-412e-8c49-329b5d4dfbab",
   "metadata": {},
   "outputs": [
    {
     "data": {
      "text/html": [
       "<div>\n",
       "<style scoped>\n",
       "    .dataframe tbody tr th:only-of-type {\n",
       "        vertical-align: middle;\n",
       "    }\n",
       "\n",
       "    .dataframe tbody tr th {\n",
       "        vertical-align: top;\n",
       "    }\n",
       "\n",
       "    .dataframe thead th {\n",
       "        text-align: right;\n",
       "    }\n",
       "</style>\n",
       "<table border=\"1\" class=\"dataframe\">\n",
       "  <thead>\n",
       "    <tr style=\"text-align: right;\">\n",
       "      <th></th>\n",
       "      <th>player names</th>\n",
       "      <th>gps</th>\n",
       "      <th>wins</th>\n",
       "      <th>gaa</th>\n",
       "      <th>sv%</th>\n",
       "    </tr>\n",
       "  </thead>\n",
       "  <tbody>\n",
       "    <tr>\n",
       "      <th>0</th>\n",
       "      <td>Juuse Saros</td>\n",
       "      <td>4.7</td>\n",
       "      <td>6</td>\n",
       "      <td>2.66</td>\n",
       "      <td>.910</td>\n",
       "    </tr>\n",
       "    <tr>\n",
       "      <th>1</th>\n",
       "      <td>Connor Hellebuyck</td>\n",
       "      <td>5.4</td>\n",
       "      <td>17</td>\n",
       "      <td>2.14</td>\n",
       "      <td>.925</td>\n",
       "    </tr>\n",
       "    <tr>\n",
       "      <th>2</th>\n",
       "      <td>Sam Montembeault</td>\n",
       "      <td>3.9</td>\n",
       "      <td>9</td>\n",
       "      <td>2.83</td>\n",
       "      <td>.906</td>\n",
       "    </tr>\n",
       "    <tr>\n",
       "      <th>3</th>\n",
       "      <td>Jordan Binnington</td>\n",
       "      <td>3.3</td>\n",
       "      <td>8</td>\n",
       "      <td>2.93</td>\n",
       "      <td>.897</td>\n",
       "    </tr>\n",
       "    <tr>\n",
       "      <th>4</th>\n",
       "      <td>Andrei Vasilevskiy</td>\n",
       "      <td>3.7</td>\n",
       "      <td>12</td>\n",
       "      <td>2.40</td>\n",
       "      <td>.909</td>\n",
       "    </tr>\n",
       "    <tr>\n",
       "      <th>...</th>\n",
       "      <td>...</td>\n",
       "      <td>...</td>\n",
       "      <td>...</td>\n",
       "      <td>...</td>\n",
       "      <td>...</td>\n",
       "    </tr>\n",
       "    <tr>\n",
       "      <th>83</th>\n",
       "      <td>Yaniv Perets</td>\n",
       "      <td>0.0</td>\n",
       "      <td>0</td>\n",
       "      <td>7.32</td>\n",
       "      <td>.857</td>\n",
       "    </tr>\n",
       "    <tr>\n",
       "      <th>84</th>\n",
       "      <td>Erik Portillo</td>\n",
       "      <td>0.4</td>\n",
       "      <td>1</td>\n",
       "      <td>1.02</td>\n",
       "      <td>.966</td>\n",
       "    </tr>\n",
       "    <tr>\n",
       "      <th>85</th>\n",
       "      <td>Akira Schmid</td>\n",
       "      <td>0.2</td>\n",
       "      <td>0</td>\n",
       "      <td>.00</td>\n",
       "      <td>1.000</td>\n",
       "    </tr>\n",
       "    <tr>\n",
       "      <th>86</th>\n",
       "      <td>Mads Søgaard</td>\n",
       "      <td>-0.1</td>\n",
       "      <td>1</td>\n",
       "      <td>6.96</td>\n",
       "      <td>.765</td>\n",
       "    </tr>\n",
       "    <tr>\n",
       "      <th>87</th>\n",
       "      <td>League Average</td>\n",
       "      <td>None</td>\n",
       "      <td>None</td>\n",
       "      <td>2.84</td>\n",
       "      <td>.901</td>\n",
       "    </tr>\n",
       "  </tbody>\n",
       "</table>\n",
       "<p>88 rows × 5 columns</p>\n",
       "</div>"
      ],
      "text/plain": [
       "          player names   gps  wins   gaa    sv%\n",
       "0          Juuse Saros   4.7     6  2.66   .910\n",
       "1    Connor Hellebuyck   5.4    17  2.14   .925\n",
       "2     Sam Montembeault   3.9     9  2.83   .906\n",
       "3    Jordan Binnington   3.3     8  2.93   .897\n",
       "4   Andrei Vasilevskiy   3.7    12  2.40   .909\n",
       "..                 ...   ...   ...   ...    ...\n",
       "83        Yaniv Perets   0.0     0  7.32   .857\n",
       "84       Erik Portillo   0.4     1  1.02   .966\n",
       "85        Akira Schmid   0.2     0   .00  1.000\n",
       "86        Mads Søgaard  -0.1     1  6.96   .765\n",
       "87      League Average  None  None  2.84   .901\n",
       "\n",
       "[88 rows x 5 columns]"
      ]
     },
     "execution_count": 19,
     "metadata": {},
     "output_type": "execute_result"
    }
   ],
   "source": [
    "g_data = {}\n",
    "\n",
    "keys = ['player names', 'gps', 'wins', 'gaa', 'sv%']\n",
    "\n",
    "for i in range(len(keys)):\n",
    "    g_data[keys[i]] = g_cols[i]\n",
    "\n",
    "g_df = pd.DataFrame(g_data)\n",
    "g_df"
   ]
  },
  {
   "cell_type": "code",
   "execution_count": 20,
   "id": "f7040283-f623-464d-86bf-66f1d16626a8",
   "metadata": {},
   "outputs": [],
   "source": [
    "g_df[['gps', 'gaa', 'sv%']] = g_df[['gps', 'gaa', 'sv%']].astype(float)"
   ]
  },
  {
   "cell_type": "code",
   "execution_count": 21,
   "id": "9896911b-4eff-4e43-9bb6-c6175bb01b53",
   "metadata": {},
   "outputs": [],
   "source": [
    "g_df['wins'] = g_df['wins'].apply(lambda x: int(x) if isinstance(x, str) else 0)"
   ]
  },
  {
   "cell_type": "code",
   "execution_count": 22,
   "id": "534a0478-eaf7-4d5a-96a2-4fb3a0ff4e62",
   "metadata": {},
   "outputs": [],
   "source": [
    "g_df = g_df.nlargest(5, 'gps', keep='all')\n",
    "g_df.reset_index(inplace=True, drop=True)"
   ]
  },
  {
   "cell_type": "code",
   "execution_count": 23,
   "id": "8ac37d77-f5f4-4bd0-a3e2-a88d5854e8c1",
   "metadata": {},
   "outputs": [],
   "source": [
    "g_df[['gps', 'wins']] = g_df[['gps', 'wins']] * 3"
   ]
  },
  {
   "cell_type": "code",
   "execution_count": 24,
   "id": "5f2591f7-9c0b-4fde-a70e-5da966ca7515",
   "metadata": {},
   "outputs": [],
   "source": [
    "g_df.drop(columns=['player names'], inplace=True)"
   ]
  },
  {
   "cell_type": "code",
   "execution_count": 25,
   "id": "45c0e890-3906-4580-8f75-70c319166a08",
   "metadata": {},
   "outputs": [],
   "source": [
    "g_df.to_csv('2025_g_forecast.csv')"
   ]
  }
 ],
 "metadata": {
  "kernelspec": {
   "display_name": "Python 3 (ipykernel)",
   "language": "python",
   "name": "python3"
  },
  "language_info": {
   "codemirror_mode": {
    "name": "ipython",
    "version": 3
   },
   "file_extension": ".py",
   "mimetype": "text/x-python",
   "name": "python",
   "nbconvert_exporter": "python",
   "pygments_lexer": "ipython3",
   "version": "3.12.3"
  }
 },
 "nbformat": 4,
 "nbformat_minor": 5
}
